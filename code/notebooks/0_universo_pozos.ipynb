{
 "cells": [
  {
   "cell_type": "markdown",
   "id": "9d43f952",
   "metadata": {},
   "source": [
    "# Tesina Licenciatura\n",
    "## Construcción de bases de trabajo\n",
    "\n",
    "Este notebook constituye la primera parte del proceso de tratamiento de los datos.\n",
    "\n",
    "En este, se filtra la información relativa a la producción petrolera mensual de México hasta construir la base de datos deseada para el posterior trabajo de estimación econométrica."
   ]
  },
  {
   "cell_type": "markdown",
   "id": "9bfd1e4a",
   "metadata": {},
   "source": [
    "#### Importación de librerías necesarias y configuraciones iniciales"
   ]
  },
  {
   "cell_type": "code",
   "execution_count": 1,
   "id": "6833c386",
   "metadata": {},
   "outputs": [
    {
     "data": {
      "text/html": [
       "<style>.container { width:90% !important; }</style>"
      ],
      "text/plain": [
       "<IPython.core.display.HTML object>"
      ]
     },
     "metadata": {},
     "output_type": "display_data"
    }
   ],
   "source": [
    "from IPython.display import display, HTML\n",
    "display(HTML(\"<style>.container { width:90% !important; }</style>\"))"
   ]
  },
  {
   "cell_type": "code",
   "execution_count": 2,
   "id": "3adeffcc",
   "metadata": {},
   "outputs": [],
   "source": [
    "# Importación de librerías\n",
    "import pandas as pd\n",
    "import numpy as np\n",
    "import datetime as dt\n",
    "import glob\n",
    "import re"
   ]
  },
  {
   "cell_type": "markdown",
   "id": "a690a861",
   "metadata": {},
   "source": [
    "### Carga de información\n",
    "\n",
    "A partir de esta sección, se trabajará con la información de producción promedio mensual por pozo obtenida en el **SIH**. \n",
    "\n",
    "Lo primero a realizar es cargar correctamente la información."
   ]
  },
  {
   "cell_type": "code",
   "execution_count": 3,
   "id": "fb9c2d77",
   "metadata": {},
   "outputs": [],
   "source": [
    "### Producción petrolera --------------------------------------------------------------------\n",
    "\n",
    "# Definir un path y listar los archivos referentes a producción y perforación en listas\n",
    "path_prod = \"/home/aleong/ITAM/tesina_licenciatura/Data/produccion/\"\n",
    "\n",
    "# A partir de la librería glob, se agrupan los archivos referentes a producción en una lista; y los de perforación en otra\n",
    "extension = 'csv'\n",
    "prod_filenames = [i for i in glob.glob(path_prod+'PROD_*.{}'.format(extension))]\n",
    "\n",
    "# Los formatos de las variables contenidas en los csv de producción se van a definir con un diccionario\n",
    "prod_type = (\n",
    "    {\n",
    "        'Cuenca':'object',\n",
    "        'Asignación_o_Contrato':'object',\n",
    "        'Nombre_del_pozo':'object',\n",
    "        'Petróleo_(Mbd)':'float64',\n",
    "        'Gas_asociado_(MMpcd)':'float64',\n",
    "        'Gas__no_asociado_(MMpcd)':'float64',\n",
    "        'Agua_(Mbd)':'float64',\n",
    "        'Condensado_(Mbd)':'float64'\n",
    "    }\n",
    ")\n",
    "\n",
    "# Carga de información de producción\n",
    "df_prod = (\n",
    "    pd.concat(\n",
    "        [\n",
    "            pd\n",
    "            .read_csv(\n",
    "                f,\n",
    "                encoding='latin-1',\n",
    "                skiprows=10,\n",
    "                dtype=prod_type,\n",
    "                parse_dates=['Fecha'],\n",
    "                date_format=\"%d-%m-%Y\"\n",
    "            )\n",
    "            for f in prod_filenames\n",
    "        ],\n",
    "        ignore_index=True\n",
    "    )\n",
    ")\n",
    "\n",
    "# Cambio de nombre a columnas con base en un diccionario\n",
    "prod_names = (\n",
    "    {\n",
    "        'Fecha':'fecha',\n",
    "        'Cuenca':'cuenca',\n",
    "        'Asignación_o_Contrato':'asignacion_contrato',\n",
    "        'Nombre_del_pozo':'nombre_pozo',\n",
    "        'Petróleo_(Mbd)':'petroleo_mbd',\n",
    "        'Gas_asociado_(MMpcd)':'gas_asociado_mmpcd',\n",
    "        'Gas_no_asociado_(MMpcd)':'gas_no_asociado_mmpcd',\n",
    "        'Agua_(Mbd)':'agua_mbd',\n",
    "        'Condensado_(Mbd)':'condensado_mbd'\n",
    "    }\n",
    ")\n",
    "\n",
    "# Instrumentar cambio de nombre a columnas\n",
    "df_prod.rename(columns=prod_names, inplace=True)\n",
    "\n",
    "# Por simplicidad, se va a acotar el nombre de dos cuencas petroleras (CINTURÓN PLEGADO DE CHIAPAS Y CUENCAS DEL SURESTE)\n",
    "# por \"CHIAPAS\" Y \"SURESTE\"\n",
    "df_prod.loc[df_prod['cuenca'] == 'CINTURON PLEGADO DE CHIAPAS', 'cuenca'] = 'CHIAPAS'\n",
    "df_prod.loc[df_prod['cuenca'] == 'CUENCAS DEL SURESTE', 'cuenca'] = 'SURESTE' \n",
    "\n",
    "# También se cambiará el nombre a un pozo, que requiere eliminar un espacio en blanco\n",
    "df_prod.loc[df_prod['nombre_pozo'] == 'EL TREINTA-13DES', 'nombre_pozo'] = 'ELTREINTA-13DES'"
   ]
  },
  {
   "cell_type": "code",
   "execution_count": 4,
   "id": "65e48d2d",
   "metadata": {},
   "outputs": [],
   "source": [
    "### Producción petrolera --------------------------------------------------------------------\n",
    "\n",
    "# Definir un path y listar los archivos referentes a producción y perforación en listas\n",
    "path_perf = \"/home/aleong/ITAM/tesina_licenciatura/Data/perforacion/\" \n",
    "\n",
    "# Enlistar los archivos de perforación\n",
    "perf_filenames = [i for i in glob.glob(path_perf+'PERFORACION_*.{}'.format(extension))]\n",
    "\n",
    "# Los formatos de las variables contenidas en los csv de producción se van a definir con un diccionario\n",
    "perf_type = (\n",
    "    {\n",
    "        'POZO':'object',\n",
    "        'CAMPO':'object',\n",
    "        'ENTIDAD':'object',\n",
    "        'UBICACIóN':'object',\n",
    "        'CLASIFICACIóN':'object',\n",
    "        'ESTADO ACTUAL':'object',\n",
    "        'TIPO DE HIDROCARBURO':'object',\n",
    "        'FECHA INICIO DE PERFORACIóN':'object',\n",
    "        'FECHA FIN PERFORACIóN':'object',\n",
    "        'PROFUNDIDAD TOTAL':'float64',\n",
    "        'PROFUNDIDAD VERTICAL':'float64',\n",
    "        'TRAYECTORIA':'object',\n",
    "        'DISPONIBLE':'object'\n",
    "    }\n",
    ")\n",
    "\n",
    "# Carga de información de producción\n",
    "df_perf = (\n",
    "    pd.concat(\n",
    "        [\n",
    "            pd\n",
    "            .read_csv(\n",
    "                f,\n",
    "                encoding='utf-8-sig',\n",
    "                dtype=perf_type,\n",
    "                parse_dates={'fecha_inicio':[7], 'fecha_fin':[8]},\n",
    "                date_format=\"%d-%m-%Y\"\n",
    "            )\n",
    "            for f in perf_filenames\n",
    "        ],\n",
    "        ignore_index=True\n",
    "    )\n",
    ")\n",
    "\n",
    "# Cambio de nombre a columnas con base en un diccionario\n",
    "perf_names = (\n",
    "    {\n",
    "        'POZO':'nombre_pozo',\n",
    "        'CAMPO':'campo',\n",
    "        'ENTIDAD':'entidad',\n",
    "        'UBICACIóN':'ubicacion',\n",
    "        'CLASIFICACIóN':'clasificacion',\n",
    "        'ESTADO ACTUAL':'edo_actual',\n",
    "        'TIPO DE HIDROCARBURO':'tipo_hidrocarburo',\n",
    "        'PROFUNDIDAD TOTAL':'prof_total',\n",
    "        'PROFUNDIDAD VERTICAL':'prof_vertical',\n",
    "        'TRAYECTORIA':'trayectoria',\n",
    "        'DISPONIBLE':'disponible'\n",
    "    }\n",
    ")\n",
    "\n",
    "\n",
    "# Cambios de nombre de columnas\n",
    "df_perf.rename(columns=perf_names, inplace=True)\n"
   ]
  },
  {
   "cell_type": "markdown",
   "id": "6ffc6087",
   "metadata": {},
   "source": [
    "**¿Cuántos pozos hay registrados en la base de datos de producción mensual promedio de petróleo?**"
   ]
  },
  {
   "cell_type": "code",
   "execution_count": 5,
   "id": "970ed670",
   "metadata": {},
   "outputs": [
    {
     "name": "stdout",
     "output_type": "stream",
     "text": [
      "\n",
      "    BASE DE PRODUCCIÓN PETROLERA\n",
      "    ----------------------------\n",
      "\n",
      "        Número de pozos:         20,756\n",
      "        Cuencas petroleras:           6\n",
      "\n",
      "        ------------------------\n",
      "\n",
      "        Inicio:                    1930\n",
      "        Final:                     2020\n",
      "\n",
      "        \n"
     ]
    }
   ],
   "source": [
    "# Número inicial de pozos\n",
    "n0_pozos = df_prod['nombre_pozo'].nunique()\n",
    "\n",
    "# Imprimir conteo inicial\n",
    "(\n",
    "    print(\n",
    "        f\"\"\"\n",
    "    BASE DE PRODUCCIÓN PETROLERA\n",
    "    ----------------------------\n",
    "\n",
    "        Número de pozos:        {n0_pozos:>7,}\n",
    "        Cuencas petroleras:     {df_prod['cuenca'].nunique():>7,}\n",
    "\n",
    "        ------------------------\n",
    "\n",
    "        Inicio:                 {(df_prod['fecha'].dt.year).min():>7}\n",
    "        Final:                  {(df_prod['fecha'].dt.year).max():>7}\n",
    "\n",
    "        \"\"\"\n",
    "    )\n",
    ")"
   ]
  },
  {
   "cell_type": "markdown",
   "id": "38bffca0",
   "metadata": {},
   "source": [
    "### Definición del universo de pozos"
   ]
  },
  {
   "cell_type": "markdown",
   "id": "251f63a8",
   "metadata": {},
   "source": [
    "Ahora, se van a aplicar los siguientes filtros sobre este universo de pozos:  \n",
    "\n",
    "1. **Descarte de pozos no petroleros.**\n",
    "2. **Descarte de pozos previos a 1970.**\n",
    "3. **Descarte de pozos posteriores a 2018.**\n",
    "\n",
    "Pero, para su aplicación efectiva sobre la base de producción petrolera, antes se creará un **inventario de pozos** que reuna, para cada pozos, la siguiente información: **inicio de producción, la cuenca, el tipo de hidrocarburo y la ubicación del pozo.**"
   ]
  },
  {
   "cell_type": "markdown",
   "id": "d32acf7c",
   "metadata": {},
   "source": [
    "#### Inventario de pozos"
   ]
  },
  {
   "cell_type": "code",
   "execution_count": 6,
   "id": "aa72371e",
   "metadata": {},
   "outputs": [],
   "source": [
    "# El inventario de pozos se crea a partir de agrupar la base de producción por pozo y ejecutar\n",
    "# algunas operaciones a nivel agregado. Primero, se agregará el inicio de producción y la cuenca\n",
    "inv_pozos = (\n",
    "    df_prod\n",
    "    .groupby(['nombre_pozo'], as_index=False)\n",
    "    .agg(\n",
    "        inicio_prod=('fecha', 'min'),\n",
    "        cuenca=('cuenca', 'first')\n",
    "    )\n",
    ")\n",
    "\n",
    "# Con la ayuda de la base de perforación proveniente del mapa, incluir el tipo de hidrocarburo, \n",
    "# la ubicación y la entidad\n",
    "inv_pozos = (\n",
    "    inv_pozos\n",
    "    .merge(\n",
    "        df_perf[['nombre_pozo', 'tipo_hidrocarburo', 'ubicacion']],\n",
    "        on=['nombre_pozo'],\n",
    "        how='left'\n",
    "    )\n",
    ")"
   ]
  },
  {
   "cell_type": "markdown",
   "id": "42c44d92",
   "metadata": {},
   "source": [
    "En este cruce, se generan algunos registros duplicados. Para remediar esto, solo se conservará un registro por pozo."
   ]
  },
  {
   "cell_type": "code",
   "execution_count": 7,
   "id": "f613c55b",
   "metadata": {},
   "outputs": [
    {
     "name": "stdout",
     "output_type": "stream",
     "text": [
      "Ya no hay pozos duplicados.\n"
     ]
    }
   ],
   "source": [
    "# Número de pozos duplicados\n",
    "pozos_dup = inv_pozos[inv_pozos['nombre_pozo'].duplicated()]['nombre_pozo'].nunique()\n",
    "\n",
    "# Elminar los registros duplicados\n",
    "inv_pozos.drop_duplicates(subset=['nombre_pozo'], keep='last', inplace=True)\n",
    "\n",
    "# ¿Restan duplicados?\n",
    "if len(inv_pozos) == inv_pozos['nombre_pozo'].nunique():\n",
    "    \n",
    "    print(\"Ya no hay pozos duplicados.\")\n",
    "    \n",
    "else:\n",
    "    \n",
    "    print(\"Revisar de nuevo.\")"
   ]
  },
  {
   "cell_type": "markdown",
   "id": "f2d81d47",
   "metadata": {},
   "source": [
    "#### Filtro 1: descarte de pozos no petroleros"
   ]
  },
  {
   "cell_type": "markdown",
   "id": "f66fd7b6",
   "metadata": {},
   "source": [
    "Primero, identificar el tipo de hidrocarburo producido en cada pozo a partir de la columna \"tipo_hidrocarburo\" (proveniente de la base de perforación)"
   ]
  },
  {
   "cell_type": "code",
   "execution_count": 8,
   "id": "36fa51a3",
   "metadata": {},
   "outputs": [
    {
     "name": "stdout",
     "output_type": "stream",
     "text": [
      "    \n",
      "    Pozos por identificar:        359\n",
      "    \n"
     ]
    }
   ],
   "source": [
    "# Se crea una dummy para mapear la columna de tipo de hidrocarburo\n",
    "inv_pozos['petrolero'] = (\n",
    "    inv_pozos['tipo_hidrocarburo']\n",
    "    .map(\n",
    "        {\n",
    "            'ACEITE':1,\n",
    "            'ACEITE-GAS':1,\n",
    "            'ACEITE Y GAS':1,\n",
    "            'ACEITE SUPERLIGERO':1,\n",
    "            'ACEITE LIGERO':1,\n",
    "            'ACEITE NEGRO':1,\n",
    "            'GAS':0,\n",
    "            'GAS-CONDENSADO':0,\n",
    "            'CONDENSADO':0,\n",
    "            'GAS SECO':0,\n",
    "            'GAS HUMEDO':0,\n",
    "            'GAS Y CONDENSADO':0,\n",
    "            'NO IDENTIFICADO':0\n",
    "        }\n",
    "    )\n",
    ")\n",
    "\n",
    "# ¿Cuántos faltan por identificar?:\n",
    "print(\n",
    "    f\"\"\"    \n",
    "    Pozos por identificar:    {inv_pozos['petrolero'].isna().sum():>7,}\n",
    "    \"\"\"\n",
    ")"
   ]
  },
  {
   "cell_type": "markdown",
   "id": "95622d53",
   "metadata": {},
   "source": [
    "Para identificar los restantes, se va a aplicar como criterio que, si en la base de producción el pozo produjo, al menos en uno de los meses, una cantidad de petróleo estrictamente mayor a cero."
   ]
  },
  {
   "cell_type": "code",
   "execution_count": 9,
   "id": "be232d34",
   "metadata": {},
   "outputs": [
    {
     "name": "stdout",
     "output_type": "stream",
     "text": [
      "\n",
      "    Pozos por identificar:         48\n",
      "    \n"
     ]
    }
   ],
   "source": [
    "# Primero, tomar el nombre de los pozos restantes por identificar y almacenarlo en una lista\n",
    "pending = inv_pozos[inv_pozos['petrolero'].isna()]['nombre_pozo'].tolist()\n",
    "\n",
    "# Tomar estos pozos de la base de producción\n",
    "pozos_pendientes = (\n",
    "    df_prod[df_prod['nombre_pozo'].isin(pending)]\n",
    "    .groupby(['nombre_pozo'], as_index=False)\n",
    "    .agg(\n",
    "        agg_prod=('petroleo_mbd','sum')\n",
    "    )\n",
    ")\n",
    "\n",
    "# Separar aquellos que sean petroleros\n",
    "pozos_pendientes = pozos_pendientes[pozos_pendientes['agg_prod']>0]['nombre_pozo'].tolist()\n",
    "\n",
    "# Ahora, actualizar esta información en el inventario de pozos\n",
    "inv_pozos.loc[inv_pozos['nombre_pozo'].isin(pozos_pendientes), 'petrolero'] = 1\n",
    "\n",
    "# ¿Cuántos faltan por identificar?:\n",
    "print(\n",
    "    f\"\"\"\n",
    "    Pozos por identificar:    {inv_pozos['petrolero'].isna().sum():>7,}\n",
    "    \"\"\"\n",
    ")"
   ]
  },
  {
   "cell_type": "markdown",
   "id": "860a3b93",
   "metadata": {},
   "source": [
    "Finalmente, los 49 pozos restantes no serán considerados petroleros."
   ]
  },
  {
   "cell_type": "code",
   "execution_count": 10,
   "id": "c2de17c4",
   "metadata": {},
   "outputs": [
    {
     "name": "stdout",
     "output_type": "stream",
     "text": [
      "\n",
      "    INVENTARIO DE POZOS\n",
      "    -------------------\n",
      "    \n",
      "    Pozos identificados:       20,756\n",
      "    \n",
      "        Petroleros:            13,958\n",
      "        Otros:                  6,798\n",
      "    \n",
      "    ----------------------------------------\n",
      "    \n",
      "    Pozos por identificar:          0\n",
      "    \n",
      "    \n"
     ]
    }
   ],
   "source": [
    "# Imputar los pozos restantes como cero en la columna 'petrolero' del inventario de pozos\n",
    "inv_pozos.loc[inv_pozos['petrolero'].isna(), 'petrolero'] = 0\n",
    "\n",
    "# Cambiar el formato de esta misma columna a integer\n",
    "inv_pozos['petrolero'] = inv_pozos['petrolero'].astype('int64')\n",
    "\n",
    "# ¿Cuántos pozos faltan por identificar?\n",
    "print(\n",
    "    f\"\"\"\n",
    "    INVENTARIO DE POZOS\n",
    "    -------------------\n",
    "    \n",
    "    Pozos identificados:      {inv_pozos['petrolero'].notna().sum():>7,}\n",
    "    \n",
    "        Petroleros:           {inv_pozos['petrolero'].value_counts()[1]:>7,}\n",
    "        Otros:                {inv_pozos['petrolero'].value_counts()[0]:>7,}\n",
    "    \n",
    "    ----------------------------------------\n",
    "    \n",
    "    Pozos por identificar:    {inv_pozos['petrolero'].isna().sum():>7,}\n",
    "    \n",
    "    \"\"\"\n",
    ")\n",
    "\n",
    "# Contar el número de pozos restante\n",
    "n1_pozos = inv_pozos[inv_pozos['petrolero']==1]['nombre_pozo'].nunique()\n",
    "no_petroleros = inv_pozos[inv_pozos['petrolero']==0]['nombre_pozo'].nunique()"
   ]
  },
  {
   "cell_type": "markdown",
   "id": "2594e0f7",
   "metadata": {},
   "source": [
    "#### Filtro 2: descarte de pozos previos a 1970"
   ]
  },
  {
   "cell_type": "markdown",
   "id": "09ffcb69",
   "metadata": {},
   "source": [
    "El siguiente paso en el proceso de selección de pozos es identificar aquellos que empezaron a **producir a partir de enero de 1970.**"
   ]
  },
  {
   "cell_type": "code",
   "execution_count": 11,
   "id": "15f7543c",
   "metadata": {},
   "outputs": [],
   "source": [
    "# Creación de una marca en el inventario de pozos\n",
    "inv_pozos['post_1970'] = np.where(inv_pozos['inicio_prod']>=\"1970-01-01\", 1, 0)\n",
    "\n",
    "# ¿Cuántos pozos son pre-1970?\n",
    "pre_1970 = inv_pozos[(inv_pozos['post_1970']==0)&(inv_pozos['petrolero']==1)]['nombre_pozo'].nunique()\n",
    "post_1970 = inv_pozos[(inv_pozos['post_1970']==1)&(inv_pozos['petrolero']==1)]['nombre_pozo'].nunique()\n",
    "\n",
    "# Conteo de pozos\n",
    "n2_pozos = inv_pozos[(inv_pozos['post_1970']==1)&(inv_pozos['petrolero']==1)]['nombre_pozo'].nunique()"
   ]
  },
  {
   "cell_type": "markdown",
   "id": "cf7818ff",
   "metadata": {},
   "source": [
    "#### Filtro 3: descarte de pozos posteriores a 2018"
   ]
  },
  {
   "cell_type": "markdown",
   "id": "18bbd6fb",
   "metadata": {},
   "source": [
    "El último filtro a aplicar consiste en eliminar aquellos **pozos que empezaron a producir después de diciembre de 2018.**"
   ]
  },
  {
   "cell_type": "code",
   "execution_count": 12,
   "id": "09c9fe31",
   "metadata": {},
   "outputs": [],
   "source": [
    "# Creación de una marca en el inventario de pozos\n",
    "inv_pozos['post_2018'] = np.where(inv_pozos['inicio_prod']>=\"2019-01-01\", 1, 0)\n",
    "\n",
    "# ¿Cuántos pozos son post-2018?\n",
    "pre_2018 = inv_pozos[(inv_pozos['post_2018']==0) & (inv_pozos['post_1970']==1)]['nombre_pozo'].nunique()\n",
    "post_2018 = inv_pozos[(inv_pozos['post_2018']==1) & (inv_pozos['post_1970']==1) & (inv_pozos['petrolero']==1)]['nombre_pozo'].nunique()\n",
    "\n",
    "# Conteo de pozos\n",
    "n3_pozos = (\n",
    "    inv_pozos[(inv_pozos['post_1970']==1)&(inv_pozos['petrolero']==1) & (inv_pozos['post_2018']==0)]['nombre_pozo'].nunique()\n",
    ")"
   ]
  },
  {
   "cell_type": "markdown",
   "id": "3dbaff0e",
   "metadata": {},
   "source": [
    "**¿Cuántos pozos restan?**"
   ]
  },
  {
   "cell_type": "markdown",
   "id": "72d40577",
   "metadata": {},
   "source": [
    "A continuación, se muestra un resumen del proceso"
   ]
  },
  {
   "cell_type": "code",
   "execution_count": 13,
   "id": "5574de45",
   "metadata": {},
   "outputs": [
    {
     "name": "stdout",
     "output_type": "stream",
     "text": [
      "\n",
      "    BASE DE PRODUCCIÓN PETROLERA\n",
      "    ----------------------------\n",
      "\n",
      "    Número inicial de pozos:       20,756  (- 6,798 pozos no petroleros)\n",
      "    Pozos petroleros:              13,958  (- 2,007 pozos pre-1970)\n",
      "    Pozos post 1970:               11,951  (-   295 pozos post-2018)\n",
      "    ______________________________________\n",
      "    \n",
      "    Pozos restantes:               11,656\n",
      "    \n"
     ]
    }
   ],
   "source": [
    "print(\n",
    "    f\"\"\"\n",
    "    BASE DE PRODUCCIÓN PETROLERA\n",
    "    ----------------------------\n",
    "\n",
    "    Número inicial de pozos:      {n0_pozos:>7,}  (- {no_petroleros:>5,} pozos no petroleros)\n",
    "    Pozos petroleros:             {n1_pozos:>7,}  (- {pre_1970:>5,} pozos pre-1970)\n",
    "    Pozos post 1970:              {n2_pozos:>7,}  (- {post_2018:>5,} pozos post-2018)\n",
    "    ______________________________________\n",
    "    \n",
    "    Pozos restantes:              {n3_pozos:>7,}\n",
    "    \"\"\"\n",
    ")"
   ]
  },
  {
   "cell_type": "markdown",
   "id": "360e5e30",
   "metadata": {},
   "source": [
    "Finalmente, se escriben el universo de pozos y el inventario creado en dos archivos csv separados."
   ]
  },
  {
   "cell_type": "code",
   "execution_count": 14,
   "id": "ca0c5d40",
   "metadata": {},
   "outputs": [],
   "source": [
    "# Crear tres máscaras para filtrar los datos de producción\n",
    "pozos_petroleros = (inv_pozos['petrolero']==1)\n",
    "post_1970 = (inv_pozos['post_1970']==1)\n",
    "pre_2018 = (inv_pozos['post_2018']==0)\n",
    "\n",
    "# Lista final de pozos a seleccionar\n",
    "lista_pozos = inv_pozos[pozos_petroleros & post_1970 & pre_2018]['nombre_pozo'].tolist()\n",
    "\n",
    "# Filtrar la producción de estos pozos\n",
    "universo_pozos = df_prod[df_prod['nombre_pozo'].isin(lista_pozos)].copy()\n",
    "\n",
    "# Finalmente, acotar los registros hasta diciembre de 2018\n",
    "universo_pozos = universo_pozos[universo_pozos['fecha']<\"2019-01-01\"]\n",
    "\n",
    "# Crear los csv\n",
    "inv_pozos.to_csv(\"/home/aleong/ITAM/tesina_licenciatura/Data/bases_finales/inventario_pozos.csv\", sep=',', index=False)\n",
    "universo_pozos.to_csv(\"/home/aleong/ITAM/tesina_licenciatura/Data/bases_finales/universo_pozos.csv\", sep=',', index=False)"
   ]
  }
 ],
 "metadata": {
  "kernelspec": {
   "display_name": ".venv",
   "language": "python",
   "name": "python3"
  },
  "language_info": {
   "codemirror_mode": {
    "name": "ipython",
    "version": 3
   },
   "file_extension": ".py",
   "mimetype": "text/x-python",
   "name": "python",
   "nbconvert_exporter": "python",
   "pygments_lexer": "ipython3",
   "version": "3.10.4"
  }
 },
 "nbformat": 4,
 "nbformat_minor": 5
}
