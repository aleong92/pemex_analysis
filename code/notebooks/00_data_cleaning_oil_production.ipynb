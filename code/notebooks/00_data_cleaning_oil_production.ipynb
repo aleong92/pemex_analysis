{
 "cells": [
  {
   "cell_type": "markdown",
   "id": "fd0b3af9",
   "metadata": {},
   "source": [
    "# Data cleaning\n",
    "## Oil production\n",
    "\n",
    "In this notebook, I clean and filter oil production data."
   ]
  },
  {
   "cell_type": "markdown",
   "id": "026c1f23",
   "metadata": {},
   "source": [
    "### Libraries"
   ]
  },
  {
   "cell_type": "code",
   "execution_count": 4,
   "id": "b00f720d",
   "metadata": {},
   "outputs": [],
   "source": [
    "import pandas as pd\n",
    "import numpy as np\n",
    "import datetime as dt\n",
    "import os\n",
    "import glob\n",
    "import re\n",
    "import sys"
   ]
  },
  {
   "cell_type": "code",
   "execution_count": 5,
   "id": "70803f5b",
   "metadata": {},
   "outputs": [],
   "source": [
    "sys.path.append(os.path.abspath(os.path.join(\"..\", \"..\")))"
   ]
  },
  {
   "cell_type": "code",
   "execution_count": 6,
   "id": "b99a804d",
   "metadata": {},
   "outputs": [],
   "source": [
    "from config import config"
   ]
  },
  {
   "cell_type": "code",
   "execution_count": null,
   "id": "52bad324",
   "metadata": {},
   "outputs": [
    {
     "data": {
      "text/plain": [
       "'float64'"
      ]
     },
     "execution_count": 9,
     "metadata": {},
     "output_type": "execute_result"
    }
   ],
   "source": []
  },
  {
   "cell_type": "code",
   "execution_count": null,
   "id": "affdf38a",
   "metadata": {},
   "outputs": [],
   "source": [
    "import sys\n",
    "print(sys.path)"
   ]
  },
  {
   "cell_type": "markdown",
   "id": "01ee7b3a",
   "metadata": {},
   "source": [
    "### Import data"
   ]
  },
  {
   "cell_type": "code",
   "execution_count": null,
   "id": "b52d5645",
   "metadata": {},
   "outputs": [],
   "source": [
    "# Relative path\n",
    "PATH = os.path.join(\"..\", \"..\", \"data\", \"oil_production\")"
   ]
  },
  {
   "cell_type": "code",
   "execution_count": null,
   "id": "34e4d657",
   "metadata": {},
   "outputs": [],
   "source": [
    "# Column dictionary\n",
    "prod_data_dtypes = (\n",
    "    {\n",
    "        'Cuenca':'object',\n",
    "        'Asignación_o_Contrato':'object',\n",
    "        'Nombre_del_pozo':'object',\n",
    "        'Petróleo_(Mbd)':'float64',\n",
    "        'Gas_asociado_(MMpcd)':'float64',\n",
    "        'Gas__no_asociado_(MMpcd)':'float64',\n",
    "        'Agua_(Mbd)':'float64',\n",
    "        'Condensado_(Mbd)':'float64'\n",
    "    }\n",
    ")"
   ]
  },
  {
   "cell_type": "code",
   "execution_count": null,
   "id": "eba635e1",
   "metadata": {},
   "outputs": [],
   "source": [
    "# All csv file paths\n",
    "file_ext = 'csv'\n",
    "prod_csv_names = [i for i in glob.glob(PATH+'/prod_*.{}'.format(file_ext))]\n",
    "\n",
    "# Production dataframe\n",
    "df_prod = (\n",
    "    pd.concat(\n",
    "        [\n",
    "            pd\n",
    "            .read_csv(\n",
    "                f,\n",
    "                encoding='latin-1',\n",
    "                skiprows=10,\n",
    "                dtype=prod_data_dtypes,\n",
    "                parse_dates=['Fecha'],\n",
    "                date_format=\"%d-%m-%Y\"\n",
    "            )\n",
    "            for f in prod_csv_names\n",
    "        ],\n",
    "        ignore_index=True\n",
    "    )\n",
    ")"
   ]
  },
  {
   "cell_type": "code",
   "execution_count": null,
   "id": "923f93cd",
   "metadata": {},
   "outputs": [],
   "source": [
    "# New column names\n",
    "prod_names = (\n",
    "    {\n",
    "        'Fecha':'fecha',\n",
    "        'Cuenca':'cuenca',\n",
    "        'Asignación_o_Contrato':'asignacion_contrato',\n",
    "        'Nombre_del_pozo':'nombre_pozo',\n",
    "        'Petróleo_(Mbd)':'petroleo_mbd',\n",
    "        'Gas_asociado_(MMpcd)':'gas_asociado_mmpcd',\n",
    "        'Gas_no_asociado_(MMpcd)':'gas_no_asociado_mmpcd',\n",
    "        'Agua_(Mbd)':'agua_mbd',\n",
    "        'Condensado_(Mbd)':'condensado_mbd'\n",
    "    }\n",
    ")\n",
    "\n",
    "# Apply renaming\n",
    "df_prod.rename(columns=prod_names, inplace=True)\n",
    "\n",
    "# Rename oil basins\n",
    "df_prod.loc[df_prod['cuenca'] == 'CINTURON PLEGADO DE CHIAPAS', 'cuenca'] = 'CHIAPAS'\n",
    "df_prod.loc[df_prod['cuenca'] == 'CUENCAS DEL SURESTE', 'cuenca'] = 'SURESTE' \n",
    "\n",
    "# Avodi whitespace in well EL TREINTA 12DES\n",
    "df_prod.loc[df_prod['nombre_pozo'] == 'EL TREINTA-13DES', 'nombre_pozo'] = 'ELTREINTA-13DES'"
   ]
  },
  {
   "cell_type": "markdown",
   "id": "88b2087e",
   "metadata": {},
   "source": [
    "How many oil wells are there?"
   ]
  },
  {
   "cell_type": "code",
   "execution_count": null,
   "id": "3dbe7868",
   "metadata": {},
   "outputs": [],
   "source": [
    "# Número inicial de pozos\n",
    "n0_wells = df_prod['nombre_pozo'].nunique()\n",
    "\n",
    "# Imprimir conteo inicial\n",
    "(\n",
    "    print(\n",
    "        f\"\"\"\n",
    "    OIL PRODUCTION DATABASE\n",
    "    -----------------------\n",
    "\n",
    "        Wells:      {n0_wells:>7,}\n",
    "        Basins:     {df_prod['cuenca'].nunique():>7,}\n",
    "\n",
    "        -------------------\n",
    "\n",
    "        Starts:     {(df_prod['fecha'].dt.year).min():>7}\n",
    "        Ends:       {(df_prod['fecha'].dt.year).max():>7}\n",
    "\n",
    "        \"\"\"\n",
    "    )\n",
    ")"
   ]
  },
  {
   "cell_type": "code",
   "execution_count": null,
   "id": "d9b00400",
   "metadata": {},
   "outputs": [],
   "source": []
  },
  {
   "cell_type": "code",
   "execution_count": null,
   "id": "17c60741",
   "metadata": {},
   "outputs": [],
   "source": []
  },
  {
   "cell_type": "code",
   "execution_count": null,
   "id": "dd4a1583",
   "metadata": {},
   "outputs": [],
   "source": []
  },
  {
   "cell_type": "code",
   "execution_count": null,
   "id": "814d6aab",
   "metadata": {},
   "outputs": [],
   "source": [
    "df_prod"
   ]
  },
  {
   "cell_type": "code",
   "execution_count": null,
   "id": "67ff609d",
   "metadata": {},
   "outputs": [],
   "source": []
  }
 ],
 "metadata": {
  "kernelspec": {
   "display_name": "tesina",
   "language": "python",
   "name": "python3"
  },
  "language_info": {
   "codemirror_mode": {
    "name": "ipython",
    "version": 3
   },
   "file_extension": ".py",
   "mimetype": "text/x-python",
   "name": "python",
   "nbconvert_exporter": "python",
   "pygments_lexer": "ipython3",
   "version": "3.11.5"
  }
 },
 "nbformat": 4,
 "nbformat_minor": 5
}
